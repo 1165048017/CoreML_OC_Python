{
 "cells": [
  {
   "cell_type": "code",
   "execution_count": 1,
   "metadata": {},
   "outputs": [],
   "source": [
    "import numpy as np\n",
    "import tensorflow as tf"
   ]
  },
  {
   "cell_type": "code",
   "execution_count": 2,
   "metadata": {},
   "outputs": [],
   "source": [
    "model = tf.keras.models.load_model('elu_adam.h5')"
   ]
  },
  {
   "cell_type": "code",
   "execution_count": 3,
   "metadata": {},
   "outputs": [
    {
     "data": {
      "text/plain": [
       "(1, 42)"
      ]
     },
     "execution_count": 3,
     "metadata": {},
     "output_type": "execute_result"
    }
   ],
   "source": [
    "test_input = np.array([0.589869,-0.807209,0.0216254,0.374714,-0.258722,0.89031,-0.0590713,-0.901398,-0.428943,-0.582088,-0.812846,-0.0213401,-0.466998,-0.258784,0.845543,0.229916,-0.669814,0.706037,-0.0207609,0.999555,0.0214356,-0.0207609,0.999555,0.0214356,0.932139,-0.350875,-0.0894676,0.432187,-0.884066,0.177881,0.307225,-0.622432,0.719855,-0.932139,-0.350874,-0.0894673,-0.366027,-0.81478,0.44962,-0.243548,-0.810353,0.532928\n",
    "                      ]);\n",
    "test_input = test_input[np.newaxis,...]\n",
    "test_input.shape"
   ]
  },
  {
   "cell_type": "code",
   "execution_count": 4,
   "metadata": {},
   "outputs": [],
   "source": [
    "result = model.predict(test_input)"
   ]
  },
  {
   "cell_type": "code",
   "execution_count": 5,
   "metadata": {},
   "outputs": [
    {
     "data": {
      "text/plain": [
       "array([[-0.00555471, -0.06832403, -0.07481331,  0.03448331,  0.02256336,\n",
       "        -0.2855381 , -0.08109752,  0.12458856,  0.1092386 , -0.02902506,\n",
       "        -0.10049238, -0.54094243,  0.13261864, -0.1598331 , -0.31030914,\n",
       "        -0.01860901, -0.07351683, -0.08230709, -0.01709482, -0.08086209,\n",
       "        -0.05874683, -0.31309584, -0.1021783 ,  0.13576868, -0.33643436,\n",
       "        -0.19155769, -0.10506376,  0.32434642,  0.00320716,  0.14566986,\n",
       "         0.30687314,  0.11111112,  0.21967268]], dtype=float32)"
      ]
     },
     "execution_count": 5,
     "metadata": {},
     "output_type": "execute_result"
    }
   ],
   "source": [
    "result"
   ]
  },
  {
   "cell_type": "code",
   "execution_count": 6,
   "metadata": {},
   "outputs": [
    {
     "name": "stdout",
     "output_type": "stream",
     "text": [
      "Model: \"model\"\n",
      "_________________________________________________________________\n",
      "Layer (type)                 Output Shape              Param #   \n",
      "=================================================================\n",
      "input_1 (InputLayer)         [(None, 42)]              0         \n",
      "_________________________________________________________________\n",
      "dense (Dense)                (None, 100)               4300      \n",
      "_________________________________________________________________\n",
      "dense_1 (Dense)              (None, 150)               15150     \n",
      "_________________________________________________________________\n",
      "dense_2 (Dense)              (None, 50)                7550      \n",
      "_________________________________________________________________\n",
      "dense_3 (Dense)              (None, 33)                1683      \n",
      "=================================================================\n",
      "Total params: 28,683\n",
      "Trainable params: 28,683\n",
      "Non-trainable params: 0\n",
      "_________________________________________________________________\n"
     ]
    }
   ],
   "source": [
    "model.summary()"
   ]
  },
  {
   "cell_type": "markdown",
   "metadata": {},
   "source": [
    "## 重新将模型保存为pb格式\n",
    "https://stackoverflow.com/questions/45466020/how-to-export-keras-h5-to-tensorflow-pb\n",
    "https://github.com/leimao/Frozen_Graph_TensorFlow/blob/master/TensorFlow_v2/train.py"
   ]
  },
  {
   "cell_type": "code",
   "execution_count": 7,
   "metadata": {},
   "outputs": [],
   "source": [
    "from tensorflow.python.framework.convert_to_constants import convert_variables_to_constants_v2"
   ]
  },
  {
   "cell_type": "code",
   "execution_count": 8,
   "metadata": {},
   "outputs": [
    {
     "name": "stdout",
     "output_type": "stream",
     "text": [
      "--------------------------------------------------\n",
      "Frozen model layers: \n",
      "x\n",
      "model/dense/MatMul/ReadVariableOp/resource\n",
      "model/dense/MatMul/ReadVariableOp\n",
      "model/dense/MatMul\n",
      "model/dense/BiasAdd/ReadVariableOp/resource\n",
      "model/dense/BiasAdd/ReadVariableOp\n",
      "model/dense/BiasAdd\n",
      "model/dense/Tanh\n",
      "model/dense_1/MatMul/ReadVariableOp/resource\n",
      "model/dense_1/MatMul/ReadVariableOp\n",
      "model/dense_1/MatMul\n",
      "model/dense_1/BiasAdd/ReadVariableOp/resource\n",
      "model/dense_1/BiasAdd/ReadVariableOp\n",
      "model/dense_1/BiasAdd\n",
      "model/dense_1/Tanh\n",
      "model/dense_2/MatMul/ReadVariableOp/resource\n",
      "model/dense_2/MatMul/ReadVariableOp\n",
      "model/dense_2/MatMul\n",
      "model/dense_2/BiasAdd/ReadVariableOp/resource\n",
      "model/dense_2/BiasAdd/ReadVariableOp\n",
      "model/dense_2/BiasAdd\n",
      "model/dense_2/Tanh\n",
      "model/dense_3/MatMul/ReadVariableOp/resource\n",
      "model/dense_3/MatMul/ReadVariableOp\n",
      "model/dense_3/MatMul\n",
      "model/dense_3/BiasAdd/ReadVariableOp/resource\n",
      "model/dense_3/BiasAdd/ReadVariableOp\n",
      "model/dense_3/BiasAdd\n",
      "model/dense_3/Tanh\n",
      "Identity\n",
      "--------------------------------------------------\n",
      "Frozen model inputs: \n",
      "[<tf.Tensor 'x:0' shape=(None, 42) dtype=float32>]\n",
      "Frozen model outputs: \n",
      "[<tf.Tensor 'Identity:0' shape=(None, 33) dtype=float32>]\n"
     ]
    },
    {
     "data": {
      "text/plain": [
       "'./frozen_models/frozen_graph.pb'"
      ]
     },
     "execution_count": 8,
     "metadata": {},
     "output_type": "execute_result"
    }
   ],
   "source": [
    "# Convert Keras model to ConcreteFunction\n",
    "full_model = tf.function(lambda x: model(x))\n",
    "full_model = full_model.get_concrete_function(\n",
    "    tf.TensorSpec(model.inputs[0].shape, model.inputs[0].dtype))\n",
    "\n",
    "# Get frozen ConcreteFunction\n",
    "frozen_func = convert_variables_to_constants_v2(full_model)\n",
    "frozen_func.graph.as_graph_def()\n",
    "\n",
    "layers = [op.name for op in frozen_func.graph.get_operations()]\n",
    "print(\"-\" * 50)\n",
    "print(\"Frozen model layers: \")\n",
    "for layer in layers:\n",
    "    print(layer)\n",
    "\n",
    "print(\"-\" * 50)\n",
    "print(\"Frozen model inputs: \")\n",
    "print(frozen_func.inputs)\n",
    "print(\"Frozen model outputs: \")\n",
    "print(frozen_func.outputs)\n",
    "\n",
    "# Save frozen graph from frozen ConcreteFunction to hard drive\n",
    "tf.io.write_graph(graph_or_graph_def=frozen_func.graph,\n",
    "                  logdir=\"./frozen_models\",\n",
    "                  name=\"frozen_graph.pb\",\n",
    "                  as_text=False)"
   ]
  },
  {
   "cell_type": "code",
   "execution_count": null,
   "metadata": {},
   "outputs": [],
   "source": []
  }
 ],
 "metadata": {
  "kernelspec": {
   "display_name": "Python 3",
   "language": "python",
   "name": "python3"
  },
  "language_info": {
   "codemirror_mode": {
    "name": "ipython",
    "version": 3
   },
   "file_extension": ".py",
   "mimetype": "text/x-python",
   "name": "python",
   "nbconvert_exporter": "python",
   "pygments_lexer": "ipython3",
   "version": "3.6.8"
  }
 },
 "nbformat": 4,
 "nbformat_minor": 4
}
