{
 "cells": [
  {
   "cell_type": "code",
   "execution_count": 1,
   "metadata": {
    "scrolled": true
   },
   "outputs": [
    {
     "name": "stderr",
     "output_type": "stream",
     "text": [
      "WARNING:root:TensorFlow version 2.2.0 detected. Last version known to be fully compatible is 1.14.0 .\n"
     ]
    }
   ],
   "source": [
    "import tfcoreml\n",
    "import tensorflow as tf"
   ]
  },
  {
   "cell_type": "code",
   "execution_count": 2,
   "metadata": {},
   "outputs": [],
   "source": [
    "keras_model = tf.keras.models.load_model('tanh_adam.h5')"
   ]
  },
  {
   "cell_type": "code",
   "execution_count": 3,
   "metadata": {},
   "outputs": [],
   "source": [
    "input_name = keras_model.inputs[0].name.split(':')[0]\n",
    "keras_output_node_name = keras_model.outputs[0].name.split(':')[0]\n",
    "graph_output_node_name = keras_output_node_name.split('/')[-1]"
   ]
  },
  {
   "cell_type": "code",
   "execution_count": 4,
   "metadata": {},
   "outputs": [
    {
     "data": {
      "text/plain": [
       "'Identity'"
      ]
     },
     "execution_count": 4,
     "metadata": {},
     "output_type": "execute_result"
    }
   ],
   "source": [
    "graph_output_node_name"
   ]
  },
  {
   "cell_type": "code",
   "execution_count": 5,
   "metadata": {},
   "outputs": [
    {
     "name": "stdout",
     "output_type": "stream",
     "text": [
      "0 assert nodes deleted\n",
      "8 nodes deleted\n",
      "0 nodes deleted\n",
      "0 nodes deleted\n",
      "[Op Fusion] fuse_bias_add() deleted 8 nodes.\n",
      "2 identity nodes deleted\n",
      "4 disconnected nodes deleted\n",
      "[SSAConverter] Converting function main ...\n",
      "[SSAConverter] [1/9] Converting op type: 'Placeholder', name: 'input_1', output_shape: (1, 48).\n",
      "[SSAConverter] [2/9] Converting op type: 'MatMul', name: 'model/dense/MatMul', output_shape: (1, 100).\n",
      "[SSAConverter] [3/9] Converting op type: 'Tanh', name: 'model/dense/Tanh', output_shape: (1, 100).\n",
      "[SSAConverter] [4/9] Converting op type: 'MatMul', name: 'model/dense_1/MatMul', output_shape: (1, 150).\n",
      "[SSAConverter] [5/9] Converting op type: 'Tanh', name: 'model/dense_1/Tanh', output_shape: (1, 150).\n",
      "[SSAConverter] [6/9] Converting op type: 'MatMul', name: 'model/dense_2/MatMul', output_shape: (1, 100).\n",
      "[SSAConverter] [7/9] Converting op type: 'Tanh', name: 'model/dense_2/Tanh', output_shape: (1, 100).\n",
      "[SSAConverter] [8/9] Converting op type: 'MatMul', name: 'model/dense_3/MatMul', output_shape: (1, 39).\n",
      "[SSAConverter] [9/9] Converting op type: 'Tanh', name: 'Identity', output_shape: (1, 39).\n"
     ]
    }
   ],
   "source": [
    "model = tfcoreml.convert('./tanh_adam.h5',\n",
    "                         input_name_shape_dict={input_name: (1, 48)},\n",
    "                         output_feature_names=[graph_output_node_name],\n",
    "                         minimum_ios_deployment_target='13')\n",
    "\n",
    "\n",
    "model.save('./tanh_adam.mlmodel')"
   ]
  },
  {
   "cell_type": "code",
   "execution_count": null,
   "metadata": {},
   "outputs": [],
   "source": []
  }
 ],
 "metadata": {
  "kernelspec": {
   "display_name": "Python 3",
   "language": "python",
   "name": "python3"
  },
  "language_info": {
   "codemirror_mode": {
    "name": "ipython",
    "version": 3
   },
   "file_extension": ".py",
   "mimetype": "text/x-python",
   "name": "python",
   "nbconvert_exporter": "python",
   "pygments_lexer": "ipython3",
   "version": "3.6.8"
  }
 },
 "nbformat": 4,
 "nbformat_minor": 4
}
