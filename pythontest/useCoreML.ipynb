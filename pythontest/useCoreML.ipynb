{
 "cells": [
  {
   "cell_type": "code",
   "execution_count": 1,
   "metadata": {},
   "outputs": [
    {
     "name": "stderr",
     "output_type": "stream",
     "text": [
      "WARNING:root:TensorFlow version 2.2.0 detected. Last version known to be fully compatible is 1.14.0 .\n"
     ]
    }
   ],
   "source": [
    "import coremltools\n",
    "import numpy as np"
   ]
  },
  {
   "cell_type": "code",
   "execution_count": 2,
   "metadata": {},
   "outputs": [],
   "source": [
    "model = coremltools.models.MLModel('tanh_adam.mlmodel')"
   ]
  },
  {
   "cell_type": "code",
   "execution_count": 3,
   "metadata": {},
   "outputs": [],
   "source": [
    "test_input = np.array([0.726929,-0.686713,0,0.158151,-0.861633,0.482261,-0.257199,-0.78799,-0.559393,-0.663442,-0.748228,0,0.0205787,-0.849843,0.526634,0.0523806,-0.792685,-0.607377,-0.0797524,0.972289,-0.219758,-0.0797524,0.972289,-0.219758,0.941548,0.331547,-0.059699,0.512718,-0.844069,-0.157061,0.660604,-0.681821,0.314201,-0.7416,-0.527576,0.414357,-0.893561,0.448883,0.00731473,-0.461029,-0.885892,-0.0514584,-0.646183,-0.688946,0.328332,0.719832,-0.407261,0.562121\n",
    "                      ]);\n",
    "test_input = test_input[np.newaxis,...]"
   ]
  },
  {
   "cell_type": "code",
   "execution_count": 4,
   "metadata": {},
   "outputs": [],
   "source": [
    "output_dict = model.predict({'input_1':test_input},useCPUOnly=True)"
   ]
  },
  {
   "cell_type": "code",
   "execution_count": 5,
   "metadata": {},
   "outputs": [
    {
     "data": {
      "text/plain": [
       "{'Identity': array([[ 0.02586655,  0.0017377 ,  0.04442627,  0.04430836,  0.03569125,\n",
       "         -0.16752258,  0.06180535,  0.15046895,  0.23149894, -0.03060934,\n",
       "          0.03453275, -0.16906004, -0.03650244, -0.0838806 ,  0.19003914,\n",
       "          0.00908198, -0.00348589, -0.06143759, -0.00670545,  0.00110124,\n",
       "          0.04763887, -0.25896025,  0.04658905,  0.07069256, -0.20652206,\n",
       "         -0.12848301,  0.03350582, -0.20652258, -0.12848301, -0.18249062,\n",
       "          0.30281118, -0.00344378, -0.00957801,  0.21700345,  0.12504868,\n",
       "         -0.04489531,  0.2170057 ,  0.12504868, -0.23915161]],\n",
       "       dtype=float32)}"
      ]
     },
     "execution_count": 5,
     "metadata": {},
     "output_type": "execute_result"
    }
   ],
   "source": [
    "output_dict"
   ]
  },
  {
   "cell_type": "code",
   "execution_count": 6,
   "metadata": {},
   "outputs": [
    {
     "data": {
      "text/plain": [
       "(1, 39)"
      ]
     },
     "execution_count": 6,
     "metadata": {},
     "output_type": "execute_result"
    }
   ],
   "source": [
    "output_dict['Identity'].shape"
   ]
  },
  {
   "cell_type": "code",
   "execution_count": null,
   "metadata": {},
   "outputs": [],
   "source": []
  }
 ],
 "metadata": {
  "kernelspec": {
   "display_name": "Python 3",
   "language": "python",
   "name": "python3"
  },
  "language_info": {
   "codemirror_mode": {
    "name": "ipython",
    "version": 3
   },
   "file_extension": ".py",
   "mimetype": "text/x-python",
   "name": "python",
   "nbconvert_exporter": "python",
   "pygments_lexer": "ipython3",
   "version": "3.6.8"
  }
 },
 "nbformat": 4,
 "nbformat_minor": 4
}
