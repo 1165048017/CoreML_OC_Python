{
 "cells": [
  {
   "cell_type": "code",
   "execution_count": 1,
   "metadata": {},
   "outputs": [],
   "source": [
    "import cv2\n",
    "import numpy as np"
   ]
  },
  {
   "cell_type": "code",
   "execution_count": 2,
   "metadata": {},
   "outputs": [],
   "source": [
    "net = cv2.dnn.readNetFromTensorflow(\"./frozen_models/frozen_graph.pb\");"
   ]
  },
  {
   "cell_type": "code",
   "execution_count": 3,
   "metadata": {},
   "outputs": [],
   "source": [
    "test_input = np.array([0.589869,-0.807209,0.0216254,0.374714,-0.258722,0.89031,-0.0590713,-0.901398,-0.428943,-0.582088,-0.812846,-0.0213401,-0.466998,-0.258784,0.845543,0.229916,-0.669814,0.706037,-0.0207609,0.999555,0.0214356,-0.0207609,0.999555,0.0214356,0.932139,-0.350875,-0.0894676,0.432187,-0.884066,0.177881,0.307225,-0.622432,0.719855,-0.932139,-0.350874,-0.0894673,-0.366027,-0.81478,0.44962,-0.243548,-0.810353,0.532928\n",
    "                      ]);\n",
    "test_input = test_input[np.newaxis,...]"
   ]
  },
  {
   "cell_type": "code",
   "execution_count": 4,
   "metadata": {},
   "outputs": [
    {
     "data": {
      "text/plain": [
       "(1, 42)"
      ]
     },
     "execution_count": 4,
     "metadata": {},
     "output_type": "execute_result"
    }
   ],
   "source": [
    "test_input.shape"
   ]
  },
  {
   "cell_type": "code",
   "execution_count": 5,
   "metadata": {},
   "outputs": [],
   "source": [
    "net.setInput(test_input,\"x\")"
   ]
  },
  {
   "cell_type": "code",
   "execution_count": 6,
   "metadata": {},
   "outputs": [],
   "source": [
    "b=net.forward()"
   ]
  },
  {
   "cell_type": "code",
   "execution_count": 7,
   "metadata": {},
   "outputs": [
    {
     "data": {
      "text/plain": [
       "array([[-0.0055553 , -0.06832394, -0.07481244,  0.03448257,  0.02256345,\n",
       "        -0.28553808, -0.08109725,  0.12458864,  0.10923892, -0.02902523,\n",
       "        -0.10049234, -0.5409425 ,  0.13261881, -0.15983298, -0.31030908,\n",
       "        -0.01860902, -0.07351676, -0.08230767, -0.01709442, -0.08086208,\n",
       "        -0.05874636, -0.31309593, -0.10217831,  0.13576886, -0.33643442,\n",
       "        -0.19155763, -0.10506282,  0.32434592,  0.00320709,  0.14566982,\n",
       "         0.30687273,  0.11111105,  0.2196728 ]], dtype=float32)"
      ]
     },
     "execution_count": 7,
     "metadata": {},
     "output_type": "execute_result"
    }
   ],
   "source": [
    "b"
   ]
  },
  {
   "cell_type": "code",
   "execution_count": null,
   "metadata": {},
   "outputs": [],
   "source": []
  }
 ],
 "metadata": {
  "kernelspec": {
   "display_name": "Python 3",
   "language": "python",
   "name": "python3"
  },
  "language_info": {
   "codemirror_mode": {
    "name": "ipython",
    "version": 3
   },
   "file_extension": ".py",
   "mimetype": "text/x-python",
   "name": "python",
   "nbconvert_exporter": "python",
   "pygments_lexer": "ipython3",
   "version": "3.6.8"
  }
 },
 "nbformat": 4,
 "nbformat_minor": 4
}
